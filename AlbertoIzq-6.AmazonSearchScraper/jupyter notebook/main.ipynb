{
 "cells": [
  {
   "cell_type": "code",
   "execution_count": 33,
   "metadata": {},
   "outputs": [
    {
     "data": {
      "text/plain": [
       "'\\nDescription\\nStars\\nReviews\\nPrice\\n'"
      ]
     },
     "execution_count": 33,
     "metadata": {},
     "output_type": "execute_result"
    }
   ],
   "source": [
    "import requests\n",
    "from bs4 import BeautifulSoup\n",
    "\n",
    "url = \"https://www.amazon.es/s?k=guitarra+electrica&__mk_es_ES=%C3%85M%C3%85%C5%BD%C3%95%C3%91&ref=nb_sb_noss_2\"\n",
    "r = requests.get(url, headers={'User-agent': 'Mozilla/5.0 (X11; Ubuntu; Linux x86_64; rv:61.0) Gecko/20100101 Firefox/61.0'})\n",
    "c = r.content\n",
    "#c\n",
    "soup = BeautifulSoup(c, \"html.parser\")\n",
    "#print(soup.prettify())\n",
    "all = soup.find_all(\"div\", {\"data-component-type\": \"s-search-result\", \"class\": \"s-result-item\"})\n",
    "#print(len(all))\n",
    "\n",
    "#counter = 1\n",
    "\n",
    "l = []\n",
    "\n",
    "for item in all:\n",
    "    d = {}\n",
    "    \n",
    "    description = item.find_all(\"div\", {\"class\": \"a-section a-spacing-none a-spacing-top-small\"})[0].find(\"span\", {\"class\": \"a-size-base-plus a-color-base a-text-normal\"}).text\n",
    "    d[\"Description\"] = description\n",
    "    #print(\"___\", counter, \": \", description)\n",
    "    \n",
    "    try:\n",
    "        stars = item.find(\"span\", {\"class\": \"a-icon-alt\"}).text.replace(\" de 5 estrellas\", \"\")\n",
    "    except:\n",
    "        stars = None\n",
    "    d[\"Stars\"] = stars\n",
    "    \n",
    "    #print(stars, \" stars\")\n",
    "    \n",
    "    try:\n",
    "        reviews = item.find_all(\"div\", {\"class\": \"a-section a-spacing-none a-spacing-top-micro\"})[0].find(\"span\", {\"class\": \"a-size-base\"}).text\n",
    "    except:\n",
    "        reviews = None\n",
    "    d[\"Reviews\"] = reviews\n",
    "    \n",
    "    #print(reviews, \" reviews\")\n",
    "     \n",
    "    try:\n",
    "        price = item.find_all(\"div\", {\"class\": \"a-section a-spacing-none a-spacing-top-small\"})[1].find(\"span\", {\"class\": \"a-price-whole\"}).text\n",
    "    except:\n",
    "        price = None\n",
    "    d[\"Price\"] = price\n",
    "    \n",
    "    #print(\"price is \", price, \" €\")\n",
    "    \n",
    "    try:\n",
    "        amazon_prime = item.find_all(\"div\", {\"class\": \"a-section a-spacing-none a-spacing-top-micro\"})[1].find(\"i\", {\"class\": \"a-icon a-icon-prime a-icon-medium\"})\n",
    "        amazon_prime = \"Yes\"\n",
    "        #print(\"AMAZON PRIME YES\")\n",
    "    except:\n",
    "        amazon_prime = \"No\"\n",
    "        #print(\"NO\")\n",
    "    d[\"Amazon prime\"] = amazon_prime\n",
    "    \n",
    "    try:\n",
    "        best_seller = item.find(\"div\", {\"class\": \"a-section a-spacing-micro s-grid-status-badge-container\"}).find_all(\"span\", {\"class\": \"a-badge-text\"})[0]\n",
    "        best_seller = \"Yes\"\n",
    "        #print(\"Más vendido\")\n",
    "    except:\n",
    "        best_seller = \"No\"\n",
    "        #print(\"NO\")\n",
    "    d[\"Best seller\"] = best_seller\n",
    "        \n",
    "    #counter = counter + 1\n",
    "    \n",
    "    l.append(d)\n",
    "\n",
    "#print(\"Counter is: \", counter)\n",
    "'''\n",
    "Description\n",
    "Stars\n",
    "Reviews\n",
    "Price\n",
    "'''"
   ]
  },
  {
   "cell_type": "code",
   "execution_count": 34,
   "metadata": {},
   "outputs": [
    {
     "data": {
      "text/html": [
       "<div>\n",
       "<style scoped>\n",
       "    .dataframe tbody tr th:only-of-type {\n",
       "        vertical-align: middle;\n",
       "    }\n",
       "\n",
       "    .dataframe tbody tr th {\n",
       "        vertical-align: top;\n",
       "    }\n",
       "\n",
       "    .dataframe thead th {\n",
       "        text-align: right;\n",
       "    }\n",
       "</style>\n",
       "<table border=\"1\" class=\"dataframe\">\n",
       "  <thead>\n",
       "    <tr style=\"text-align: right;\">\n",
       "      <th></th>\n",
       "    </tr>\n",
       "  </thead>\n",
       "  <tbody>\n",
       "  </tbody>\n",
       "</table>\n",
       "</div>"
      ],
      "text/plain": [
       "Empty DataFrame\n",
       "Columns: []\n",
       "Index: []"
      ]
     },
     "execution_count": 34,
     "metadata": {},
     "output_type": "execute_result"
    }
   ],
   "source": [
    "import pandas\n",
    "df = pandas.DataFrame(l)\n",
    "df"
   ]
  },
  {
   "cell_type": "code",
   "execution_count": 35,
   "metadata": {},
   "outputs": [],
   "source": [
    "df.to_csv(\"Output.csv\")"
   ]
  },
  {
   "cell_type": "code",
   "execution_count": 99,
   "metadata": {},
   "outputs": [
    {
     "data": {
      "text/plain": [
       "'https://www.amazon.es/s?k=guitarra+electrica+7+cuerdas&page=1&__mk_es_ES=%C3%85M%C3%85%C5%BD%C3%95%C3%91&ref=sr_pg_1'"
      ]
     },
     "execution_count": 99,
     "metadata": {},
     "output_type": "execute_result"
    }
   ],
   "source": [
    "url_creator = []\n",
    "url_creator.append(\"https://www.amazon.es/s?k=\")\n",
    "item_search = \"guitarra electrica 7 cuerdas\"\n",
    "item_search = item_search.replace(\" \", \"+\")\n",
    "url_creator.append(item_search)\n",
    "url_creator.append(\"&page=\")\n",
    "page_number = 1\n",
    "url_creator.append(str(page_number))\n",
    "url_creator.append(\"&__mk_es_ES=%C3%85M%C3%85%C5%BD%C3%95%C3%91&ref=sr_pg_\")\n",
    "url_creator.append(str(page_number))\n",
    "\n",
    "url = \"\"\n",
    "\n",
    "for s in url_creator:\n",
    "    url = url + s\n",
    "\n",
    "url"
   ]
  },
  {
   "cell_type": "code",
   "execution_count": 100,
   "metadata": {},
   "outputs": [
    {
     "name": "stdout",
     "output_type": "stream",
     "text": [
      "Attempt 0 . Couldn't get number of pages\n",
      "Attempt 1 . Couldn't get number of pages\n"
     ]
    },
    {
     "data": {
      "text/plain": [
       "7"
      ]
     },
     "execution_count": 100,
     "metadata": {},
     "output_type": "execute_result"
    }
   ],
   "source": [
    "import time\n",
    "\n",
    "attempts = 0\n",
    "attempts_max = 50\n",
    "page_nr = \"\"\n",
    "\n",
    "while True:\n",
    "    try:\n",
    "        r = requests.get(url, headers={'User-agent': 'Mozilla/5.0 (X11; Ubuntu; Linux x86_64; rv:61.0) Gecko/20100101 Firefox/61.0'})\n",
    "        c = r.content\n",
    "        #c\n",
    "        soup = BeautifulSoup(c, \"html.parser\")\n",
    "        #print(soup.prettify())\n",
    "        all = soup.find_all(\"li\", {\"class\": \"a-disabled\"})\n",
    "        page_nr = all[-1].text\n",
    "        page_nr = int(page_nr)\n",
    "        page_nr\n",
    "    except:\n",
    "        print(\"Attempt\", attempts, \". Couldn't get number of pages\")\n",
    "        attempts += 1\n",
    "        time.sleep(1)\n",
    "    \n",
    "    if isinstance(page_nr, int):\n",
    "        break\n",
    "    elif attempts >= attempts_max:\n",
    "        print(\"The script exceeded max number of attempts to retrieve number of pages from the webpage\")\n",
    "\n",
    "page_nr"
   ]
  },
  {
   "cell_type": "code",
   "execution_count": null,
   "metadata": {},
   "outputs": [],
   "source": []
  }
 ],
 "metadata": {
  "kernelspec": {
   "display_name": "Python 3",
   "language": "python",
   "name": "python3"
  },
  "language_info": {
   "codemirror_mode": {
    "name": "ipython",
    "version": 3
   },
   "file_extension": ".py",
   "mimetype": "text/x-python",
   "name": "python",
   "nbconvert_exporter": "python",
   "pygments_lexer": "ipython3",
   "version": "3.7.8"
  }
 },
 "nbformat": 4,
 "nbformat_minor": 4
}
