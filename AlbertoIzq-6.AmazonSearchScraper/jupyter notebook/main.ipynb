{
 "cells": [
  {
   "cell_type": "code",
   "execution_count": 7,
   "metadata": {},
   "outputs": [
    {
     "name": "stdout",
     "output_type": "stream",
     "text": [
      "18\n",
      "579\n",
      "59\n",
      "16\n",
      "835\n",
      "1.577\n",
      "18\n",
      "None\n",
      "184\n",
      "None\n",
      "None\n",
      "19\n",
      "24\n",
      "None\n",
      "76\n",
      "None\n",
      "None\n",
      "280\n",
      "231\n",
      "571\n",
      "136\n",
      "34.856\n",
      "1\n",
      "None\n",
      "9\n",
      "122\n",
      "99\n",
      "3\n",
      "330\n",
      "94\n",
      "None\n",
      "678\n",
      "None\n",
      "None\n",
      "583\n",
      "202\n",
      "7\n",
      "495\n",
      "26\n",
      "None\n",
      "555\n",
      "15\n",
      "436\n",
      "None\n",
      "1.701\n",
      "47\n",
      "1.415\n",
      "None\n",
      "1.085\n",
      "181\n",
      "979\n",
      "12.665\n",
      "521\n",
      "2.275\n",
      "33\n",
      "262\n",
      "15\n",
      "284\n",
      "79\n",
      "None\n",
      "Counter is:  60\n"
     ]
    },
    {
     "data": {
      "text/plain": [
       "'\\nDescription\\nStars\\nReviews\\nPrice\\n'"
      ]
     },
     "execution_count": 7,
     "metadata": {},
     "output_type": "execute_result"
    }
   ],
   "source": [
    "import requests\n",
    "from bs4 import BeautifulSoup\n",
    "\n",
    "url = \"https://www.amazon.es/s?k=guitarra+electrica&__mk_es_ES=%C3%85M%C3%85%C5%BD%C3%95%C3%91&ref=nb_sb_noss_2\"\n",
    "r = requests.get(url, headers={'User-agent': 'Mozilla/5.0 (X11; Ubuntu; Linux x86_64; rv:61.0) Gecko/20100101 Firefox/61.0'})\n",
    "c = r.content\n",
    "#c\n",
    "soup = BeautifulSoup(c, \"html.parser\")\n",
    "#print(soup.prettify())\n",
    "all = soup.find_all(\"div\", {\"data-component-type\": \"s-search-result\", \"class\": \"s-result-item\"})\n",
    "#print(len(all))\n",
    "\n",
    "#counter = 0\n",
    "\n",
    "for item in all:\n",
    "    description = item.find_all(\"div\", {\"class\": \"a-section a-spacing-none a-spacing-top-small\"})[0].find(\"span\", {\"class\": \"a-size-base-plus a-color-base a-text-normal\"}).text\n",
    "    #print(description)\n",
    "    \n",
    "    try:\n",
    "        stars = item.find(\"span\", {\"class\": \"a-icon-alt\"}).text.replace(\" de 5 estrellas\", \"\")\n",
    "    except:\n",
    "        stars = None\n",
    "    \n",
    "    #print(stars)\n",
    "    \n",
    "    try:\n",
    "        reviews = item.find_all(\"div\", {\"class\": \"a-section a-spacing-none a-spacing-top-micro\"})[0].find(\"span\", {\"class\": \"a-size-base\"}).text\n",
    "    except:\n",
    "        reviews = None\n",
    "    #counter = counter + 1\n",
    "    print(reviews)\n",
    "     \n",
    "    #price = item.find(\"span\", {\"class\": \"a-text-normal\"}).text\n",
    "    #print(price)\n",
    "\n",
    "#print(\"Counter is: \", counter)\n",
    "'''\n",
    "Description\n",
    "Stars\n",
    "Reviews\n",
    "Price\n",
    "'''"
   ]
  },
  {
   "cell_type": "code",
   "execution_count": 5,
   "metadata": {},
   "outputs": [],
   "source": [
    "#dir(str)"
   ]
  },
  {
   "cell_type": "code",
   "execution_count": null,
   "metadata": {},
   "outputs": [],
   "source": []
  }
 ],
 "metadata": {
  "kernelspec": {
   "display_name": "Python 3",
   "language": "python",
   "name": "python3"
  },
  "language_info": {
   "codemirror_mode": {
    "name": "ipython",
    "version": 3
   },
   "file_extension": ".py",
   "mimetype": "text/x-python",
   "name": "python",
   "nbconvert_exporter": "python",
   "pygments_lexer": "ipython3",
   "version": "3.7.8"
  }
 },
 "nbformat": 4,
 "nbformat_minor": 4
}
