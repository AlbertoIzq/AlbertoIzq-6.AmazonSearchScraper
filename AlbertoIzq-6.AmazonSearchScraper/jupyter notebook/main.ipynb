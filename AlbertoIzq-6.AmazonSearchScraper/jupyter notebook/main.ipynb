{
 "cells": [
  {
   "cell_type": "code",
   "execution_count": 8,
   "metadata": {},
   "outputs": [
    {
     "name": "stdout",
     "output_type": "stream",
     "text": [
      "141,99\n",
      "729,99\n",
      "799,00\n",
      "699,99\n"
     ]
    },
    {
     "ename": "IndexError",
     "evalue": "list index out of range",
     "output_type": "error",
     "traceback": [
      "\u001b[1;31m---------------------------------------------------------------------------\u001b[0m",
      "\u001b[1;31mIndexError\u001b[0m                                Traceback (most recent call last)",
      "\u001b[1;32m<ipython-input-8-05431e63bc16>\u001b[0m in \u001b[0;36m<module>\u001b[1;34m\u001b[0m\n\u001b[0;32m     31\u001b[0m     \u001b[1;31m#print(reviews)\u001b[0m\u001b[1;33m\u001b[0m\u001b[1;33m\u001b[0m\u001b[1;33m\u001b[0m\u001b[0m\n\u001b[0;32m     32\u001b[0m \u001b[1;33m\u001b[0m\u001b[0m\n\u001b[1;32m---> 33\u001b[1;33m     \u001b[0mprice\u001b[0m \u001b[1;33m=\u001b[0m \u001b[0mdescription\u001b[0m \u001b[1;33m=\u001b[0m \u001b[0mitem\u001b[0m\u001b[1;33m.\u001b[0m\u001b[0mfind_all\u001b[0m\u001b[1;33m(\u001b[0m\u001b[1;34m\"div\"\u001b[0m\u001b[1;33m,\u001b[0m \u001b[1;33m{\u001b[0m\u001b[1;34m\"class\"\u001b[0m\u001b[1;33m:\u001b[0m \u001b[1;34m\"a-section a-spacing-none a-spacing-top-small\"\u001b[0m\u001b[1;33m}\u001b[0m\u001b[1;33m)\u001b[0m\u001b[1;33m[\u001b[0m\u001b[1;36m1\u001b[0m\u001b[1;33m]\u001b[0m\u001b[1;33m.\u001b[0m\u001b[0mfind\u001b[0m\u001b[1;33m(\u001b[0m\u001b[1;34m\"span\"\u001b[0m\u001b[1;33m,\u001b[0m \u001b[1;33m{\u001b[0m\u001b[1;34m\"class\"\u001b[0m\u001b[1;33m:\u001b[0m \u001b[1;34m\"a-price-whole\"\u001b[0m\u001b[1;33m}\u001b[0m\u001b[1;33m)\u001b[0m\u001b[1;33m.\u001b[0m\u001b[0mtext\u001b[0m\u001b[1;33m\u001b[0m\u001b[1;33m\u001b[0m\u001b[0m\n\u001b[0m\u001b[0;32m     34\u001b[0m     \u001b[0mprint\u001b[0m\u001b[1;33m(\u001b[0m\u001b[0mprice\u001b[0m\u001b[1;33m)\u001b[0m\u001b[1;33m\u001b[0m\u001b[1;33m\u001b[0m\u001b[0m\n\u001b[0;32m     35\u001b[0m \u001b[1;33m\u001b[0m\u001b[0m\n",
      "\u001b[1;31mIndexError\u001b[0m: list index out of range"
     ]
    }
   ],
   "source": [
    "import requests\n",
    "from bs4 import BeautifulSoup\n",
    "\n",
    "url = \"https://www.amazon.es/s?k=guitarra+electrica&__mk_es_ES=%C3%85M%C3%85%C5%BD%C3%95%C3%91&ref=nb_sb_noss_2\"\n",
    "r = requests.get(url, headers={'User-agent': 'Mozilla/5.0 (X11; Ubuntu; Linux x86_64; rv:61.0) Gecko/20100101 Firefox/61.0'})\n",
    "c = r.content\n",
    "#c\n",
    "soup = BeautifulSoup(c, \"html.parser\")\n",
    "#print(soup.prettify())\n",
    "all = soup.find_all(\"div\", {\"data-component-type\": \"s-search-result\", \"class\": \"s-result-item\"})\n",
    "#print(len(all))\n",
    "\n",
    "#counter = 0\n",
    "\n",
    "for item in all:\n",
    "    description = item.find_all(\"div\", {\"class\": \"a-section a-spacing-none a-spacing-top-small\"})[0].find(\"span\", {\"class\": \"a-size-base-plus a-color-base a-text-normal\"}).text\n",
    "    #print(description)\n",
    "    \n",
    "    try:\n",
    "        stars = item.find(\"span\", {\"class\": \"a-icon-alt\"}).text.replace(\" de 5 estrellas\", \"\")\n",
    "    except:\n",
    "        stars = None\n",
    "    \n",
    "    #print(stars)\n",
    "    \n",
    "    try:\n",
    "        reviews = item.find_all(\"div\", {\"class\": \"a-section a-spacing-none a-spacing-top-micro\"})[0].find(\"span\", {\"class\": \"a-size-base\"}).text\n",
    "    except:\n",
    "        reviews = None\n",
    "    #counter = counter + 1\n",
    "    #print(reviews)\n",
    "     \n",
    "    price = description = item.find_all(\"div\", {\"class\": \"a-section a-spacing-none a-spacing-top-small\"})[1].find(\"span\", {\"class\": \"a-price-whole\"}).text\n",
    "    print(price)\n",
    "\n",
    "#print(\"Counter is: \", counter)\n",
    "'''\n",
    "Description\n",
    "Stars\n",
    "Reviews\n",
    "Price\n",
    "'''"
   ]
  },
  {
   "cell_type": "code",
   "execution_count": 5,
   "metadata": {},
   "outputs": [],
   "source": [
    "#dir(str)"
   ]
  },
  {
   "cell_type": "code",
   "execution_count": null,
   "metadata": {},
   "outputs": [],
   "source": []
  }
 ],
 "metadata": {
  "kernelspec": {
   "display_name": "Python 3",
   "language": "python",
   "name": "python3"
  },
  "language_info": {
   "codemirror_mode": {
    "name": "ipython",
    "version": 3
   },
   "file_extension": ".py",
   "mimetype": "text/x-python",
   "name": "python",
   "nbconvert_exporter": "python",
   "pygments_lexer": "ipython3",
   "version": "3.7.8"
  }
 },
 "nbformat": 4,
 "nbformat_minor": 4
}
